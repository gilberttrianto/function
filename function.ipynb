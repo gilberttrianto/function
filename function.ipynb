{
 "cells": [
  {
   "attachments": {},
   "cell_type": "markdown",
   "metadata": {},
   "source": [
    "1. Makes some function for do some temperature convert from Kelvin to Celsius, and Celsius to Kelvin. \n",
    "2. Create some function for do some temperature convert to Fahrenheit. Add some parameters for make sure the input argument is Celsius or Kelvin. Calls first function  if needed.\n",
    "3. Create some function where it can do temperature converter from Fahrenheit. Give argument for make sure the output is Celsius of Kelvin.\n",
    "4. Give dokumentation for every row code."
   ]
  },
  {
   "cell_type": "code",
   "execution_count": 1,
   "metadata": {},
   "outputs": [
    {
     "name": "stdout",
     "output_type": "stream",
     "text": [
      "Suhu 23 kelvin = -250 degrees\n",
      "Suhu 29 celsius = 302 degrees\n"
     ]
    }
   ],
   "source": [
    "#Make function for do converting using convert formula \n",
    "def kelvinToCelsius(kelvin):\n",
    "    # konvert kelvin to celsius\n",
    "    celsius = kelvin - 273\n",
    "    print(f\"Suhu {kelvin} kelvin = {celsius} degrees\")\n",
    "\n",
    "def celsiusToKelvin(celsius):\n",
    "    # konvert celsius to kelvin\n",
    "    kelvin = celsius + 273\n",
    "    print(f\"Suhu {celsius} celsius = {kelvin} degrees\")\n",
    "\n",
    "#Print the code if\n",
    "kelvinToCelsius(23) #23 degrees in kelvin to celsius\n",
    "celsiusToKelvin(29) #29 degrees in calsius to kelvin"
   ]
  },
  {
   "cell_type": "code",
   "execution_count": 2,
   "metadata": {},
   "outputs": [
    {
     "name": "stdout",
     "output_type": "stream",
     "text": [
      "Temperature 29 celsius = 84.2 fahrenheit\n",
      "Temperature 29 kelvin = -407.2 fahrenheit\n"
     ]
    }
   ],
   "source": [
    "#Make function for do converting using convert formula \n",
    "def convertToFahrenheit(mode, temperature):\n",
    "    if mode == \"celsius\":\n",
    "        # konvert celsius to fahrenheit\n",
    "        celToFah = (temperature * 9/5) + 32\n",
    "        print(f\"Temperature {temperature} celsius = {celToFah} fahrenheit\")\n",
    "    elif mode == \"kelvin\":\n",
    "        # konvert kelvin to fahrenheit\n",
    "        kelToFah = (temperature - 273) * 9/5 + 32\n",
    "        print(f\"Temperature {temperature} kelvin = {kelToFah} fahrenheit\")\n",
    "\n",
    "convertToFahrenheit(\"celsius\",29)\n",
    "convertToFahrenheit(\"kelvin\",29)"
   ]
  },
  {
   "cell_type": "code",
   "execution_count": 3,
   "metadata": {},
   "outputs": [
    {
     "name": "stdout",
     "output_type": "stream",
     "text": [
      "Temperature 29 fahrenheit = -1.6666666666666667 celsius\n",
      "Temperature 29 fahrenheit = 271.3333333333333 kelvin \n"
     ]
    }
   ],
   "source": [
    "#Make function for do converting using convert formula \n",
    "def convertFromFahrenheit(mode, temperature):\n",
    "    if mode == \"celsius\":\n",
    "        celToFah = (temperature - 32) * 5/9\n",
    "        print(f\"Temperature {temperature} fahrenheit = {celToFah} celsius\")\n",
    "    elif mode == \"kelvin\":\n",
    "        kelToFah = (temperature - 32) * 5/9 + 273\n",
    "        print(f\"Temperature {temperature} fahrenheit = {kelToFah} kelvin \")\n",
    "\n",
    "convertFromFahrenheit(\"celsius\",29)\n",
    "convertFromFahrenheit(\"kelvin\",29)"
   ]
  }
 ],
 "metadata": {
  "kernelspec": {
   "display_name": "Python 3",
   "language": "python",
   "name": "python3"
  },
  "language_info": {
   "codemirror_mode": {
    "name": "ipython",
    "version": 3
   },
   "file_extension": ".py",
   "mimetype": "text/x-python",
   "name": "python",
   "nbconvert_exporter": "python",
   "pygments_lexer": "ipython3",
   "version": "3.10.9"
  },
  "orig_nbformat": 4
 },
 "nbformat": 4,
 "nbformat_minor": 2
}
