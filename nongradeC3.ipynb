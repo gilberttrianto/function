{
 "cells": [
  {
   "attachments": {},
   "cell_type": "markdown",
   "metadata": {},
   "source": [
    "# Buatlah sebuah function yang dapat mengkonversi suhu dari kelvin ke celcius, dan celcius ke kelvin.\n",
    "# Buatlah sebuah function yang dapat mengkonversi suhu ke fahrenheit. Tambahkan parameter untuk memastikan bahwa argumen yang dimasukan adalah celcius atau kelvin Panggil function yang pertama jika diperlukan\n",
    "# Buatlah sebuah function yang dapat mengkonversi suhu dari fahrenheit. Berikan argumen untuk memastikan bahwa output nya dalam celcius atau kelvin.\n",
    "# Berikan dokumentasi pada setiap baris kode yang kaliantulis.\n"
   ]
  },
  {
   "cell_type": "code",
   "execution_count": 8,
   "metadata": {},
   "outputs": [
    {
     "name": "stdout",
     "output_type": "stream",
     "text": [
      "Suhu 23 kelvin = -250 derajat\n",
      "Suhu 29 celcius = 302 derajat\n"
     ]
    }
   ],
   "source": [
    "def kelvinToCelcius(kelvin):\n",
    "    celcius = kelvin - 273\n",
    "    print(f\"Suhu {kelvin} kelvin = {celcius} derajat\")\n",
    "\n",
    "def celciusToKelvin(celcius):\n",
    "    kelvin = celcius + 273\n",
    "    print(f\"Suhu {celcius} celcius = {kelvin} derajat\")\n",
    "\n",
    "kelvinToCelcius(23)\n",
    "celciusToKelvin(29)"
   ]
  },
  {
   "cell_type": "code",
   "execution_count": 14,
   "metadata": {},
   "outputs": [
    {
     "name": "stdout",
     "output_type": "stream",
     "text": [
      "Suhu 29 celcius = 84.2 fahrenheit\n",
      "Suhu 29 kelvin = -407.2 fahrenheit\n"
     ]
    }
   ],
   "source": [
    "def convertToFahrenheit(mode, suhu):\n",
    "    if mode == \"celcius\":\n",
    "        celToFah = (suhu * 9/5) + 32\n",
    "        print(f\"Suhu {suhu} celcius = {celToFah} fahrenheit\")\n",
    "    elif mode == \"kelvin\":\n",
    "        kelToFah = (suhu - 273) * 9/5 + 32\n",
    "        print(f\"Suhu {suhu} kelvin = {kelToFah} fahrenheit\")\n",
    "\n",
    "convertToFahrenheit(\"celcius\",29)\n",
    "convertToFahrenheit(\"kelvin\",29)"
   ]
  },
  {
   "cell_type": "code",
   "execution_count": 15,
   "metadata": {},
   "outputs": [
    {
     "name": "stdout",
     "output_type": "stream",
     "text": [
      "Suhu 29 fahrenheit = -1.6666666666666667 celcius\n",
      "Suhu 29 fahrenheit = 271.3333333333333 kelvin \n"
     ]
    }
   ],
   "source": [
    "def convertFromFahrenheit(mode, suhu):\n",
    "    if mode == \"celcius\":\n",
    "        celToFah = (suhu - 32) * 5/9\n",
    "        print(f\"Suhu {suhu} fahrenheit = {celToFah} celcius\")\n",
    "    elif mode == \"kelvin\":\n",
    "        kelToFah = (suhu - 32) * 5/9 + 273\n",
    "        print(f\"Suhu {suhu} fahrenheit = {kelToFah} kelvin \")\n",
    "\n",
    "convertFromFahrenheit(\"celcius\",29)\n",
    "convertFromFahrenheit(\"kelvin\",29)"
   ]
  }
 ],
 "metadata": {
  "kernelspec": {
   "display_name": "Python 3",
   "language": "python",
   "name": "python3"
  },
  "language_info": {
   "codemirror_mode": {
    "name": "ipython",
    "version": 3
   },
   "file_extension": ".py",
   "mimetype": "text/x-python",
   "name": "python",
   "nbconvert_exporter": "python",
   "pygments_lexer": "ipython3",
   "version": "3.11.3"
  },
  "orig_nbformat": 4
 },
 "nbformat": 4,
 "nbformat_minor": 2
}
